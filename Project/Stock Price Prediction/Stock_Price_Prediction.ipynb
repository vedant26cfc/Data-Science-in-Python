{
 "cells": [
  {
   "cell_type": "markdown",
   "metadata": {
    "id": "OT6b5CQtcIX_"
   },
   "source": [
    "In this project we will perform stock price prediction. "
   ]
  },
  {
   "cell_type": "code",
   "execution_count": 1,
   "metadata": {
    "id": "TlG43y-OfXo4"
   },
   "outputs": [],
   "source": [
    "#Importing the needed libraries\n",
    "import pandas as pd\n",
    "import numpy as np\n",
    "from matplotlib import pyplot as plt\n",
    "import seaborn as sns\n",
    "import pandas_datareader as web\n",
    "import math\n",
    "from sklearn.preprocessing import MinMaxScaler\n",
    "from keras.layers import Dense, LSTM\n",
    "from keras.models import Sequential\n",
    "plt.style.use('fivethirtyeight')"
   ]
  },
  {
   "cell_type": "code",
   "execution_count": 4,
   "metadata": {
    "colab": {
     "base_uri": "https://localhost:8080/",
     "height": 390
    },
    "id": "atgEwTPjBA9H",
    "outputId": "2e9d11df-bdd4-4810-87fe-4044b210f2f3"
   },
   "outputs": [
    {
     "data": {
      "text/html": [
       "<div>\n",
       "<style scoped>\n",
       "    .dataframe tbody tr th:only-of-type {\n",
       "        vertical-align: middle;\n",
       "    }\n",
       "\n",
       "    .dataframe tbody tr th {\n",
       "        vertical-align: top;\n",
       "    }\n",
       "\n",
       "    .dataframe thead th {\n",
       "        text-align: right;\n",
       "    }\n",
       "</style>\n",
       "<table border=\"1\" class=\"dataframe\">\n",
       "  <thead>\n",
       "    <tr style=\"text-align: right;\">\n",
       "      <th></th>\n",
       "      <th>High</th>\n",
       "      <th>Low</th>\n",
       "      <th>Open</th>\n",
       "      <th>Close</th>\n",
       "      <th>Volume</th>\n",
       "      <th>Adj Close</th>\n",
       "    </tr>\n",
       "    <tr>\n",
       "      <th>Date</th>\n",
       "      <th></th>\n",
       "      <th></th>\n",
       "      <th></th>\n",
       "      <th></th>\n",
       "      <th></th>\n",
       "      <th></th>\n",
       "    </tr>\n",
       "  </thead>\n",
       "  <tbody>\n",
       "    <tr>\n",
       "      <th>2012-01-03</th>\n",
       "      <td>14.732143</td>\n",
       "      <td>14.607143</td>\n",
       "      <td>14.621429</td>\n",
       "      <td>14.686786</td>\n",
       "      <td>302220800.0</td>\n",
       "      <td>12.650659</td>\n",
       "    </tr>\n",
       "    <tr>\n",
       "      <th>2012-01-04</th>\n",
       "      <td>14.810000</td>\n",
       "      <td>14.617143</td>\n",
       "      <td>14.642857</td>\n",
       "      <td>14.765714</td>\n",
       "      <td>260022000.0</td>\n",
       "      <td>12.718646</td>\n",
       "    </tr>\n",
       "    <tr>\n",
       "      <th>2012-01-05</th>\n",
       "      <td>14.948214</td>\n",
       "      <td>14.738214</td>\n",
       "      <td>14.819643</td>\n",
       "      <td>14.929643</td>\n",
       "      <td>271269600.0</td>\n",
       "      <td>12.859850</td>\n",
       "    </tr>\n",
       "    <tr>\n",
       "      <th>2012-01-06</th>\n",
       "      <td>15.098214</td>\n",
       "      <td>14.972143</td>\n",
       "      <td>14.991786</td>\n",
       "      <td>15.085714</td>\n",
       "      <td>318292800.0</td>\n",
       "      <td>12.994284</td>\n",
       "    </tr>\n",
       "    <tr>\n",
       "      <th>2012-01-09</th>\n",
       "      <td>15.276786</td>\n",
       "      <td>15.048214</td>\n",
       "      <td>15.196429</td>\n",
       "      <td>15.061786</td>\n",
       "      <td>394024400.0</td>\n",
       "      <td>12.973674</td>\n",
       "    </tr>\n",
       "    <tr>\n",
       "      <th>2012-01-10</th>\n",
       "      <td>15.214286</td>\n",
       "      <td>15.053571</td>\n",
       "      <td>15.211071</td>\n",
       "      <td>15.115714</td>\n",
       "      <td>258196400.0</td>\n",
       "      <td>13.020121</td>\n",
       "    </tr>\n",
       "    <tr>\n",
       "      <th>2012-01-11</th>\n",
       "      <td>15.101786</td>\n",
       "      <td>14.975357</td>\n",
       "      <td>15.095714</td>\n",
       "      <td>15.091071</td>\n",
       "      <td>215084800.0</td>\n",
       "      <td>12.998899</td>\n",
       "    </tr>\n",
       "    <tr>\n",
       "      <th>2012-01-12</th>\n",
       "      <td>15.103571</td>\n",
       "      <td>14.955357</td>\n",
       "      <td>15.081429</td>\n",
       "      <td>15.049643</td>\n",
       "      <td>212587200.0</td>\n",
       "      <td>12.963211</td>\n",
       "    </tr>\n",
       "    <tr>\n",
       "      <th>2012-01-13</th>\n",
       "      <td>15.016071</td>\n",
       "      <td>14.952143</td>\n",
       "      <td>14.989286</td>\n",
       "      <td>14.993214</td>\n",
       "      <td>226021600.0</td>\n",
       "      <td>12.914607</td>\n",
       "    </tr>\n",
       "    <tr>\n",
       "      <th>2012-01-17</th>\n",
       "      <td>15.213929</td>\n",
       "      <td>15.105714</td>\n",
       "      <td>15.150000</td>\n",
       "      <td>15.167857</td>\n",
       "      <td>242897200.0</td>\n",
       "      <td>13.065036</td>\n",
       "    </tr>\n",
       "  </tbody>\n",
       "</table>\n",
       "</div>"
      ],
      "text/plain": [
       "                 High        Low       Open      Close       Volume  Adj Close\n",
       "Date                                                                          \n",
       "2012-01-03  14.732143  14.607143  14.621429  14.686786  302220800.0  12.650659\n",
       "2012-01-04  14.810000  14.617143  14.642857  14.765714  260022000.0  12.718646\n",
       "2012-01-05  14.948214  14.738214  14.819643  14.929643  271269600.0  12.859850\n",
       "2012-01-06  15.098214  14.972143  14.991786  15.085714  318292800.0  12.994284\n",
       "2012-01-09  15.276786  15.048214  15.196429  15.061786  394024400.0  12.973674\n",
       "2012-01-10  15.214286  15.053571  15.211071  15.115714  258196400.0  13.020121\n",
       "2012-01-11  15.101786  14.975357  15.095714  15.091071  215084800.0  12.998899\n",
       "2012-01-12  15.103571  14.955357  15.081429  15.049643  212587200.0  12.963211\n",
       "2012-01-13  15.016071  14.952143  14.989286  14.993214  226021600.0  12.914607\n",
       "2012-01-17  15.213929  15.105714  15.150000  15.167857  242897200.0  13.065036"
      ]
     },
     "execution_count": 4,
     "metadata": {
      "tags": []
     },
     "output_type": "execute_result"
    }
   ],
   "source": [
    "#Get the stocks\n",
    "df = web.DataReader('AAPL', data_source='yahoo', start='2012-01-01', end='2019-12-17')\n",
    "#Get the first few entries\n",
    "df.head(10)"
   ]
  },
  {
   "cell_type": "code",
   "execution_count": 5,
   "metadata": {
    "colab": {
     "base_uri": "https://localhost:8080/",
     "height": 450
    },
    "id": "3on_usOGR-Zl",
    "outputId": "c27e2f61-d892-4f8a-9efc-589358ffffb5"
   },
   "outputs": [
    {
     "data": {
      "text/html": [
       "<div>\n",
       "<style scoped>\n",
       "    .dataframe tbody tr th:only-of-type {\n",
       "        vertical-align: middle;\n",
       "    }\n",
       "\n",
       "    .dataframe tbody tr th {\n",
       "        vertical-align: top;\n",
       "    }\n",
       "\n",
       "    .dataframe thead th {\n",
       "        text-align: right;\n",
       "    }\n",
       "</style>\n",
       "<table border=\"1\" class=\"dataframe\">\n",
       "  <thead>\n",
       "    <tr style=\"text-align: right;\">\n",
       "      <th></th>\n",
       "      <th>High</th>\n",
       "      <th>Low</th>\n",
       "      <th>Open</th>\n",
       "      <th>Close</th>\n",
       "      <th>Volume</th>\n",
       "      <th>Adj Close</th>\n",
       "    </tr>\n",
       "    <tr>\n",
       "      <th>Date</th>\n",
       "      <th></th>\n",
       "      <th></th>\n",
       "      <th></th>\n",
       "      <th></th>\n",
       "      <th></th>\n",
       "      <th></th>\n",
       "    </tr>\n",
       "  </thead>\n",
       "  <tbody>\n",
       "    <tr>\n",
       "      <th>2012-01-03</th>\n",
       "      <td>14.732143</td>\n",
       "      <td>14.607143</td>\n",
       "      <td>14.621429</td>\n",
       "      <td>14.686786</td>\n",
       "      <td>302220800.0</td>\n",
       "      <td>12.650659</td>\n",
       "    </tr>\n",
       "    <tr>\n",
       "      <th>2012-01-04</th>\n",
       "      <td>14.810000</td>\n",
       "      <td>14.617143</td>\n",
       "      <td>14.642857</td>\n",
       "      <td>14.765714</td>\n",
       "      <td>260022000.0</td>\n",
       "      <td>12.718646</td>\n",
       "    </tr>\n",
       "    <tr>\n",
       "      <th>2012-01-05</th>\n",
       "      <td>14.948214</td>\n",
       "      <td>14.738214</td>\n",
       "      <td>14.819643</td>\n",
       "      <td>14.929643</td>\n",
       "      <td>271269600.0</td>\n",
       "      <td>12.859850</td>\n",
       "    </tr>\n",
       "    <tr>\n",
       "      <th>2012-01-06</th>\n",
       "      <td>15.098214</td>\n",
       "      <td>14.972143</td>\n",
       "      <td>14.991786</td>\n",
       "      <td>15.085714</td>\n",
       "      <td>318292800.0</td>\n",
       "      <td>12.994284</td>\n",
       "    </tr>\n",
       "    <tr>\n",
       "      <th>2012-01-09</th>\n",
       "      <td>15.276786</td>\n",
       "      <td>15.048214</td>\n",
       "      <td>15.196429</td>\n",
       "      <td>15.061786</td>\n",
       "      <td>394024400.0</td>\n",
       "      <td>12.973674</td>\n",
       "    </tr>\n",
       "    <tr>\n",
       "      <th>...</th>\n",
       "      <td>...</td>\n",
       "      <td>...</td>\n",
       "      <td>...</td>\n",
       "      <td>...</td>\n",
       "      <td>...</td>\n",
       "      <td>...</td>\n",
       "    </tr>\n",
       "    <tr>\n",
       "      <th>2019-12-11</th>\n",
       "      <td>67.775002</td>\n",
       "      <td>67.125000</td>\n",
       "      <td>67.202499</td>\n",
       "      <td>67.692497</td>\n",
       "      <td>78756800.0</td>\n",
       "      <td>67.012764</td>\n",
       "    </tr>\n",
       "    <tr>\n",
       "      <th>2019-12-12</th>\n",
       "      <td>68.139999</td>\n",
       "      <td>66.830002</td>\n",
       "      <td>66.945000</td>\n",
       "      <td>67.864998</td>\n",
       "      <td>137310400.0</td>\n",
       "      <td>67.183548</td>\n",
       "    </tr>\n",
       "    <tr>\n",
       "      <th>2019-12-13</th>\n",
       "      <td>68.824997</td>\n",
       "      <td>67.732498</td>\n",
       "      <td>67.864998</td>\n",
       "      <td>68.787498</td>\n",
       "      <td>133587600.0</td>\n",
       "      <td>68.096771</td>\n",
       "    </tr>\n",
       "    <tr>\n",
       "      <th>2019-12-16</th>\n",
       "      <td>70.197502</td>\n",
       "      <td>69.245003</td>\n",
       "      <td>69.250000</td>\n",
       "      <td>69.964996</td>\n",
       "      <td>128186000.0</td>\n",
       "      <td>69.262459</td>\n",
       "    </tr>\n",
       "    <tr>\n",
       "      <th>2019-12-17</th>\n",
       "      <td>70.442497</td>\n",
       "      <td>69.699997</td>\n",
       "      <td>69.892502</td>\n",
       "      <td>70.102501</td>\n",
       "      <td>114158400.0</td>\n",
       "      <td>69.398575</td>\n",
       "    </tr>\n",
       "  </tbody>\n",
       "</table>\n",
       "<p>2003 rows × 6 columns</p>\n",
       "</div>"
      ],
      "text/plain": [
       "                 High        Low       Open      Close       Volume  Adj Close\n",
       "Date                                                                          \n",
       "2012-01-03  14.732143  14.607143  14.621429  14.686786  302220800.0  12.650659\n",
       "2012-01-04  14.810000  14.617143  14.642857  14.765714  260022000.0  12.718646\n",
       "2012-01-05  14.948214  14.738214  14.819643  14.929643  271269600.0  12.859850\n",
       "2012-01-06  15.098214  14.972143  14.991786  15.085714  318292800.0  12.994284\n",
       "2012-01-09  15.276786  15.048214  15.196429  15.061786  394024400.0  12.973674\n",
       "...               ...        ...        ...        ...          ...        ...\n",
       "2019-12-11  67.775002  67.125000  67.202499  67.692497   78756800.0  67.012764\n",
       "2019-12-12  68.139999  66.830002  66.945000  67.864998  137310400.0  67.183548\n",
       "2019-12-13  68.824997  67.732498  67.864998  68.787498  133587600.0  68.096771\n",
       "2019-12-16  70.197502  69.245003  69.250000  69.964996  128186000.0  69.262459\n",
       "2019-12-17  70.442497  69.699997  69.892502  70.102501  114158400.0  69.398575\n",
       "\n",
       "[2003 rows x 6 columns]"
      ]
     },
     "execution_count": 5,
     "metadata": {
      "tags": []
     },
     "output_type": "execute_result"
    }
   ],
   "source": [
    "df"
   ]
  },
  {
   "cell_type": "markdown",
   "metadata": {
    "id": "Q1fOERZoBfIO"
   },
   "source": [
    "There must have been no recording of the stocks on Jan 1, 2012 or Jan 2, 2012 thus the data set starts from 3rd Jan, 2012."
   ]
  },
  {
   "cell_type": "code",
   "execution_count": 6,
   "metadata": {
    "colab": {
     "base_uri": "https://localhost:8080/"
    },
    "id": "C_hUrovqBpcL",
    "outputId": "dd579f39-f56c-48f4-c21a-d48972d93968"
   },
   "outputs": [
    {
     "data": {
      "text/plain": [
       "(2003, 6)"
      ]
     },
     "execution_count": 6,
     "metadata": {
      "tags": []
     },
     "output_type": "execute_result"
    }
   ],
   "source": [
    "#Shape of the data set\n",
    "df.shape"
   ]
  },
  {
   "cell_type": "code",
   "execution_count": 7,
   "metadata": {
    "colab": {
     "base_uri": "https://localhost:8080/",
     "height": 627
    },
    "id": "Qr9BRwxqMg37",
    "outputId": "63026168-3c41-447a-aa7b-1c9c291a4704"
   },
   "outputs": [
    {
     "data": {
      "image/png": "[encoded data removed]",
      "text/plain": [
       "<Figure size 1440x720 with 1 Axes>"
      ]
     },
     "metadata": {
      "needs_background": "light",
      "tags": []
     },
     "output_type": "display_data"
    }
   ],
   "source": [
    "#Visualise the closing prices history\n",
    "plt.figure(figsize=(20,10))\n",
    "plt.title('Stock Closing Prices Visualization')\n",
    "plt.plot(df['Close'])\n",
    "plt.xlabel('Date', fontsize=18)\n",
    "plt.ylabel('Closing Price in USD $', fontsize=18)\n",
    "plt.show()"
   ]
  },
  {
   "cell_type": "markdown",
   "metadata": {
    "id": "eQExMnXCN_AS"
   },
   "source": [
    "From the above visualization it is pretty evident that this has been a really good stock. From the visuals it seems evident that the stock went from under 20 USD to 70 USD on 17th December 2019."
   ]
  },
  {
   "cell_type": "code",
   "execution_count": 8,
   "metadata": {
    "colab": {
     "base_uri": "https://localhost:8080/"
    },
    "id": "c3vUf-GnSJ1q",
    "outputId": "73cfac1e-2f6b-400f-a437-485438bb61bb"
   },
   "outputs": [
    {
     "data": {
      "text/plain": [
       "1603"
      ]
     },
     "execution_count": 8,
     "metadata": {
      "tags": []
     },
     "output_type": "execute_result"
    }
   ],
   "source": [
    "#New Data Frame of Close column only\n",
    "data = df.filter(['Close'])\n",
    "#Convert into numpy array\n",
    "dataset = data.values\n",
    "#Get the number of rows to train the model on\n",
    "train_data_len = math.ceil((len(dataset))* .8)\n",
    "\n",
    "train_data_len"
   ]
  },
  {
   "cell_type": "markdown",
   "metadata": {
    "id": "QMeZrSvkeqX6"
   },
   "source": [
    "Lets start scaling the data\n"
   ]
  },
  {
   "cell_type": "code",
   "execution_count": 9,
   "metadata": {
    "colab": {
     "base_uri": "https://localhost:8080/"
    },
    "id": "R30M4e1oesYd",
    "outputId": "d0d8f6de-defe-4abf-a299-f3572690fb4e"
   },
   "outputs": [
    {
     "data": {
      "text/plain": [
       "array([[0.01316509],\n",
       "       [0.01457063],\n",
       "       [0.01748985],\n",
       "       ...,\n",
       "       [0.97658263],\n",
       "       [0.99755134],\n",
       "       [1.        ]])"
      ]
     },
     "execution_count": 9,
     "metadata": {
      "tags": []
     },
     "output_type": "execute_result"
    }
   ],
   "source": [
    "scaler = MinMaxScaler(feature_range=(0,1))\n",
    "scaled_data = scaler.fit_transform(dataset)\n",
    "\n",
    "scaled_data"
   ]
  },
  {
   "cell_type": "code",
   "execution_count": 10,
   "metadata": {
    "colab": {
     "base_uri": "https://localhost:8080/"
    },
    "id": "BjcEMwDGkjoV",
    "outputId": "6326336a-8136-40e5-b371-9611fdf8c954"
   },
   "outputs": [
    {
     "name": "stdout",
     "output_type": "stream",
     "text": [
      "[array([0.01316509, 0.01457063, 0.01748985, 0.02026915, 0.01984303,\n",
      "       0.02080338, 0.02036454, 0.01962679, 0.01862191, 0.02173194,\n",
      "       0.02453668, 0.02367172, 0.01893355, 0.02345548, 0.01900352,\n",
      "       0.03569838, 0.03440732, 0.0360927 , 0.03973694, 0.04194384,\n",
      "       0.0417594 , 0.0410789 , 0.04397903, 0.04670744, 0.04979839,\n",
      "       0.05479095, 0.0652785 , 0.06543749, 0.07127594, 0.07563885,\n",
      "       0.06814049, 0.07102789, 0.07097066, 0.07906688, 0.07791571,\n",
      "       0.08004628, 0.08387497, 0.08600558, 0.09214292, 0.09661394,\n",
      "       0.09790501, 0.09835659, 0.09071194, 0.08886753, 0.08914103,\n",
      "       0.09632778, 0.09835024, 0.10269409, 0.11293358, 0.12659476,\n",
      "       0.12403805, 0.1240444 , 0.13392141, 0.13701237, 0.13481179,\n",
      "       0.13280207, 0.13070964, 0.13766105, 0.14243103, 0.14442805])]\n",
      "[0.13949272033425864]\n",
      "\n"
     ]
    }
   ],
   "source": [
    "#Create Training set\n",
    "train_data = scaled_data[0:train_data_len, :]\n",
    "#Split into X_train and y_train\n",
    "X_train = []\n",
    "y_train = []\n",
    "\n",
    "for i in range(60, len(train_data)):\n",
    "  X_train.append(train_data[i-60:i, 0])\n",
    "  y_train.append(train_data[i, 0])\n",
    "  if i<=60:\n",
    "    print(X_train)\n",
    "    print(y_train)\n",
    "    print()"
   ]
  },
  {
   "cell_type": "code",
   "execution_count": 11,
   "metadata": {
    "id": "TW7jmG_3saF-"
   },
   "outputs": [],
   "source": [
    "#Convert X_train and y_train to numpy array\n",
    "X_train, y_train = np.array(X_train) , np.array(y_train)"
   ]
  },
  {
   "cell_type": "code",
   "execution_count": 12,
   "metadata": {
    "colab": {
     "base_uri": "https://localhost:8080/"
    },
    "id": "tlSVAwrCfoUE",
    "outputId": "17e500c4-f70c-4e24-c335-7451c277475e"
   },
   "outputs": [
    {
     "data": {
      "text/plain": [
       "(1543, 60, 1)"
      ]
     },
     "execution_count": 12,
     "metadata": {
      "tags": []
     },
     "output_type": "execute_result"
    }
   ],
   "source": [
    "#Reshaping the data\n",
    "X_train = np.reshape(X_train, (X_train.shape[0], X_train.shape[1], 1))\n",
    "X_train.shape\n"
   ]
  },
  {
   "cell_type": "markdown",
   "metadata": {
    "id": "4sPrg9zbggOP"
   },
   "source": [
    "Now lets build the LSTM models"
   ]
  },
  {
   "cell_type": "code",
   "execution_count": 13,
   "metadata": {
    "id": "w_ngbeAigjQd"
   },
   "outputs": [],
   "source": [
    "model = Sequential()\n",
    "model.add(LSTM(50, return_sequences=True, input_shape = (X_train.shape[1], 1)))\n",
    "model.add(LSTM(50, return_sequences=False))\n",
    "model.add(Dense(25))\n",
    "model.add(Dense(1))"
   ]
  },
  {
   "cell_type": "code",
   "execution_count": 14,
   "metadata": {
    "id": "1a8Bi_Vmurgi"
   },
   "outputs": [],
   "source": [
    "#Compile the model\n",
    "model.compile(optimizer='adam', loss='mean_squared_error')"
   ]
  },
  {
   "cell_type": "code",
   "execution_count": 15,
   "metadata": {
    "colab": {
     "base_uri": "https://localhost:8080/"
    },
    "id": "W7f2lgWtw7O1",
    "outputId": "347120b7-37e2-40f2-c9b9-d7bfea93c117"
   },
   "outputs": [
    {
     "name": "stdout",
     "output_type": "stream",
     "text": [
      "1543/1543 [==============================] - 37s 22ms/step - loss: 0.0014\n"
     ]
    },
    {
     "data": {
      "text/plain": [
       "<tensorflow.python.keras.callbacks.History at 0x7fb59c476a10>"
      ]
     },
     "execution_count": 15,
     "metadata": {
      "tags": []
     },
     "output_type": "execute_result"
    }
   ],
   "source": [
    "#Train the model\n",
    "model.fit(X_train, y_train, batch_size=1, epochs=1)\n"
   ]
  },
  {
   "cell_type": "code",
   "execution_count": 16,
   "metadata": {
    "id": "Wbd7j-e5xXIi"
   },
   "outputs": [],
   "source": [
    "#Create testing dataset, create array having scaled values from index psn. 1543 to 2003\n",
    "test_data = scaled_data[train_data_len - 60:, :]\n",
    "X_test = []\n",
    "y_test = dataset[train_data_len: , :]\n",
    "for i in range(60, len(test_data)):\n",
    "  X_test.append(test_data[i-60:i, 0])\n"
   ]
  },
  {
   "cell_type": "code",
   "execution_count": 17,
   "metadata": {
    "id": "aZjdy9q_LZdQ"
   },
   "outputs": [],
   "source": [
    "#Convert data to numpy array\n",
    "X_test = np.array(X_test)"
   ]
  },
  {
   "cell_type": "code",
   "execution_count": 18,
   "metadata": {
    "id": "H5X8AXqYLkDd"
   },
   "outputs": [],
   "source": [
    "#Our Data is 2-dimensional while the LSTM model expects a 3 Dimensional data set\n",
    "X_test = np.reshape(X_test, (X_test.shape[0], X_test.shape[1], 1))"
   ]
  },
  {
   "cell_type": "code",
   "execution_count": 19,
   "metadata": {
    "id": "IGbH975xVV0n"
   },
   "outputs": [],
   "source": [
    "#Get the predictions\n",
    "predictions = model.predict(X_test)\n",
    "predictions = scaler.inverse_transform(predictions)\n",
    "#We want predictions to contain same values as Y_test dataset\n"
   ]
  },
  {
   "cell_type": "code",
   "execution_count": 22,
   "metadata": {
    "colab": {
     "base_uri": "https://localhost:8080/"
    },
    "id": "TamIMurNaGAt",
    "outputId": "c8ae47d5-ef5f-4014-f0d3-d2877277a8dd"
   },
   "outputs": [
    {
     "data": {
      "text/plain": [
       "0.13371626853942872"
      ]
     },
     "execution_count": 22,
     "metadata": {
      "tags": []
     },
     "output_type": "execute_result"
    }
   ],
   "source": [
    "#Root Mean Squared Error - Its a great way to measure accuracy, measuring difference between predicted values and the actual / observed values\n",
    "rmse = np.sqrt(np.mean(predictions - y_test)**2)\n",
    "rmse"
   ]
  },
  {
   "cell_type": "code",
   "execution_count": 28,
   "metadata": {
    "colab": {
     "base_uri": "https://localhost:8080/",
     "height": 620
    },
    "id": "vBQuQmO_iasH",
    "outputId": "3b671e24-411a-4722-8fdc-a1b62f106e01"
   },
   "outputs": [
    {
     "name": "stderr",
     "output_type": "stream",
     "text": [
      "/usr/local/lib/python3.7/dist-packages/ipykernel_launcher.py:4: SettingWithCopyWarning: \n",
      "A value is trying to be set on a copy of a slice from a DataFrame.\n",
      "Try using .loc[row_indexer,col_indexer] = value instead\n",
      "\n",
      "See the caveats in the documentation: https://pandas.pydata.org/pandas-docs/stable/user_guide/indexing.html#returning-a-view-versus-a-copy\n",
      "  after removing the cwd from sys.path.\n"
     ]
    },
    {
     "data": {
      "image/png": "[encoded data removed]",
      "text/plain": [
       "<Figure size 1152x576 with 1 Axes>"
      ]
     },
     "metadata": {
      "needs_background": "light",
      "tags": []
     },
     "output_type": "display_data"
    }
   ],
   "source": [
    "#Plotting the data\n",
    "train = data[:train_data_len]\n",
    "valid = data[train_data_len:]\n",
    "valid['Predictions']=predictions\n",
    "#Visualization\n",
    "plt.figure(figsize=(16,8))\n",
    "plt.title('Model')\n",
    "plt.xlabel('Date', fontsize=18)\n",
    "plt.ylabel('Closing price in USD$', fontsize=18)\n",
    "plt.plot(train['Close'])\n",
    "plt.plot(valid[['Close','Predictions']])\n",
    "plt.legend(['Train','Val','Predictions'])\n",
    "plt.show()"
   ]
  },
  {
   "cell_type": "markdown",
   "metadata": {
    "id": "1dGzOCQRnaVa"
   },
   "source": [
    "Our model is doing pretty good as it seems. "
   ]
  },
  {
   "cell_type": "code",
   "execution_count": 29,
   "metadata": {
    "colab": {
     "base_uri": "https://localhost:8080/",
     "height": 450
    },
    "id": "gMbKNOwyndWj",
    "outputId": "83ba2dee-073a-41a0-e425-3adfe5206b8c"
   },
   "outputs": [
    {
     "data": {
      "text/html": [
       "<div>\n",
       "<style scoped>\n",
       "    .dataframe tbody tr th:only-of-type {\n",
       "        vertical-align: middle;\n",
       "    }\n",
       "\n",
       "    .dataframe tbody tr th {\n",
       "        vertical-align: top;\n",
       "    }\n",
       "\n",
       "    .dataframe thead th {\n",
       "        text-align: right;\n",
       "    }\n",
       "</style>\n",
       "<table border=\"1\" class=\"dataframe\">\n",
       "  <thead>\n",
       "    <tr style=\"text-align: right;\">\n",
       "      <th></th>\n",
       "      <th>Close</th>\n",
       "      <th>Predictions</th>\n",
       "    </tr>\n",
       "    <tr>\n",
       "      <th>Date</th>\n",
       "      <th></th>\n",
       "      <th></th>\n",
       "    </tr>\n",
       "  </thead>\n",
       "  <tbody>\n",
       "    <tr>\n",
       "      <th>2018-05-17</th>\n",
       "      <td>46.747501</td>\n",
       "      <td>47.013821</td>\n",
       "    </tr>\n",
       "    <tr>\n",
       "      <th>2018-05-18</th>\n",
       "      <td>46.577499</td>\n",
       "      <td>47.026764</td>\n",
       "    </tr>\n",
       "    <tr>\n",
       "      <th>2018-05-21</th>\n",
       "      <td>46.907501</td>\n",
       "      <td>46.988480</td>\n",
       "    </tr>\n",
       "    <tr>\n",
       "      <th>2018-05-22</th>\n",
       "      <td>46.790001</td>\n",
       "      <td>46.982620</td>\n",
       "    </tr>\n",
       "    <tr>\n",
       "      <th>2018-05-23</th>\n",
       "      <td>47.090000</td>\n",
       "      <td>46.976662</td>\n",
       "    </tr>\n",
       "    <tr>\n",
       "      <th>...</th>\n",
       "      <td>...</td>\n",
       "      <td>...</td>\n",
       "    </tr>\n",
       "    <tr>\n",
       "      <th>2019-12-11</th>\n",
       "      <td>67.692497</td>\n",
       "      <td>65.646561</td>\n",
       "    </tr>\n",
       "    <tr>\n",
       "      <th>2019-12-12</th>\n",
       "      <td>67.864998</td>\n",
       "      <td>65.887558</td>\n",
       "    </tr>\n",
       "    <tr>\n",
       "      <th>2019-12-13</th>\n",
       "      <td>68.787498</td>\n",
       "      <td>66.135162</td>\n",
       "    </tr>\n",
       "    <tr>\n",
       "      <th>2019-12-16</th>\n",
       "      <td>69.964996</td>\n",
       "      <td>66.480743</td>\n",
       "    </tr>\n",
       "    <tr>\n",
       "      <th>2019-12-17</th>\n",
       "      <td>70.102501</td>\n",
       "      <td>66.981163</td>\n",
       "    </tr>\n",
       "  </tbody>\n",
       "</table>\n",
       "<p>400 rows × 2 columns</p>\n",
       "</div>"
      ],
      "text/plain": [
       "                Close  Predictions\n",
       "Date                              \n",
       "2018-05-17  46.747501    47.013821\n",
       "2018-05-18  46.577499    47.026764\n",
       "2018-05-21  46.907501    46.988480\n",
       "2018-05-22  46.790001    46.982620\n",
       "2018-05-23  47.090000    46.976662\n",
       "...               ...          ...\n",
       "2019-12-11  67.692497    65.646561\n",
       "2019-12-12  67.864998    65.887558\n",
       "2019-12-13  68.787498    66.135162\n",
       "2019-12-16  69.964996    66.480743\n",
       "2019-12-17  70.102501    66.981163\n",
       "\n",
       "[400 rows x 2 columns]"
      ]
     },
     "execution_count": 29,
     "metadata": {
      "tags": []
     },
     "output_type": "execute_result"
    }
   ],
   "source": [
    "valid"
   ]
  },
  {
   "cell_type": "code",
   "execution_count": 32,
   "metadata": {
    "colab": {
     "base_uri": "https://localhost:8080/"
    },
    "id": "rX2RIkaIngoT",
    "outputId": "3240a672-8386-4fc5-b289-d7404b2422bd"
   },
   "outputs": [
    {
     "name": "stdout",
     "output_type": "stream",
     "text": [
      "[[67.4813]]\n"
     ]
    }
   ],
   "source": [
    "apple_quote = web.DataReader('AAPL',data_source='yahoo',start='2012-01-01', end='2019-12-17')\n",
    "new_df = apple_quote.filter(['Close'])\n",
    "last_60_days = new_df[-60:].values\n",
    "last_60_days_scaled = scaler.transform(last_60_days)\n",
    "x_test = []\n",
    "x_test.append(last_60_days_scaled)\n",
    "x_test = np.array(x_test)\n",
    "x_test = np.reshape(x_test, (x_test.shape[0], x_test.shape[1],1))\n",
    "preds = model.predict(x_test)\n",
    "preds = scaler.inverse_transform(preds)\n",
    "print(preds)"
   ]
  },
  {
   "cell_type": "code",
   "execution_count": 34,
   "metadata": {
    "colab": {
     "base_uri": "https://localhost:8080/"
    },
    "id": "fSR_KAJbumFw",
    "outputId": "f18967d5-7b4c-480b-f83c-36e85fd098fc"
   },
   "outputs": [
    {
     "name": "stdout",
     "output_type": "stream",
     "text": [
      "Date\n",
      "2012-01-03    14.686786\n",
      "2012-01-04    14.765714\n",
      "2012-01-05    14.929643\n",
      "2012-01-06    15.085714\n",
      "2012-01-09    15.061786\n",
      "                ...    \n",
      "2019-12-12    67.864998\n",
      "2019-12-13    68.787498\n",
      "2019-12-16    69.964996\n",
      "2019-12-17    70.102501\n",
      "2019-12-18    69.934998\n",
      "Name: Close, Length: 2004, dtype: float64\n"
     ]
    }
   ],
   "source": [
    "apple_quote2 = web.DataReader('AAPL',data_source='yahoo',start='2012-01-01', end='2019-12-18')\n",
    "print(apple_quote2['Close'])"
   ]
  },
  {
   "cell_type": "markdown",
   "metadata": {
    "id": "3Pzmh4uTu7Fl"
   },
   "source": [
    "The price for that day on 2019/12/18 was 69.93 and our model's prediction was 67.48 USD"
   ]
  },
  {
   "cell_type": "code",
   "execution_count": null,
   "metadata": {
    "id": "Z31M2D_IvEr_"
   },
   "outputs": [],
   "source": []
  }
 ],
 "metadata": {
  "colab": {
   "collapsed_sections": [],
   "name": "Stock Price Prediction",
   "provenance": []
  },
  "kernelspec": {
   "display_name": "Python 3",
   "language": "python",
   "name": "python3"
  },
  "language_info": {
   "codemirror_mode": {
    "name": "ipython",
    "version": 3
   },
   "file_extension": ".py",
   "mimetype": "text/x-python",
   "name": "python",
   "nbconvert_exporter": "python",
   "pygments_lexer": "ipython3",
   "version": "3.9.0"
  }
 },
 "nbformat": 4,
 "nbformat_minor": 1
}
